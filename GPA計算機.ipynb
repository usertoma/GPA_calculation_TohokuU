{
  "nbformat": 4,
  "nbformat_minor": 0,
  "metadata": {
    "colab": {
      "provenance": []
    },
    "kernelspec": {
      "name": "python3",
      "display_name": "Python 3"
    },
    "language_info": {
      "name": "python"
    }
  },
  "cells": [
    {
      "cell_type": "code",
      "execution_count": null,
      "metadata": {
        "colab": {
          "base_uri": "https://localhost:8080/"
        },
        "id": "ht0TC8rK6_QO",
        "outputId": "f03926a3-4ff9-4143-9cdc-4120a1655b84"
      },
      "outputs": [
        {
          "output_type": "stream",
          "name": "stdout",
          "text": [
            "Mounted at /content/drive\n",
            "/content/drive/My Drive/Colab Notebooks\n"
          ]
        }
      ],
      "source": [
        "# Google Colaboratoryで作業する場合はこちらも実行してください。\n",
        "from google.colab import drive\n",
        "drive.mount('/content/drive')\n",
        "# %cd 以降にこのnotebookを置いているディレクトリを指定してください。\n",
        "%cd \"/content/drive/My Drive/Colab Notebooks/\""
      ]
    },
    {
      "cell_type": "code",
      "source": [
        "#ライブラリの読み込み\n",
        "import numpy as np"
      ],
      "metadata": {
        "id": "0NG2M7bW7S2L"
      },
      "execution_count": null,
      "outputs": []
    },
    {
      "cell_type": "code",
      "source": [
        "import pandas as pd\n",
        "score = pd.read_csv(\"成績表.csv\",encoding=\"utf_8\")\n",
        "\n",
        "pd.set_option('display.max_columns', 1000)"
      ],
      "metadata": {
        "id": "vBgMEv4h7Xmc"
      },
      "execution_count": null,
      "outputs": []
    },
    {
      "cell_type": "code",
      "source": [
        "AA = [\"\\xa0 １００\",\"\\xa0 ９９\",\"\\xa0 ９８\",\"\\xa0 ９７\",\"\\xa0 ９６\",\"\\xa0 ９５\",\"\\xa0 ９４\",\"\\xa0 ９３\",\"\\xa0 ９２\",\"\\xa0 ９１\",\"\\xa0 ９０\"]\n",
        "A = [\"\\xa0 ８９\",\"\\xa0 ８８\",\"\\xa0 ８７\",\"\\xa0 ８６\",\"\\xa0 ８５\",\"\\xa0 ８４\",\"\\xa0 ８３\",\"\\xa0 ８２\",\"\\xa0 ８１\",\"\\xa0 ８０\"]\n",
        "B = [\"\\xa0 ７９\",\"\\xa0 ７８\",\"\\xa0 ７７\",\"\\xa0 ７６\",\"\\xa0 ７５\",\"\\xa0 ７４\",\"\\xa0 ７３\",\"\\xa0 ７２\",\"\\xa0 ７１\",\"\\xa0 ７０\"]\n",
        "C = [\"\\xa0 ６９\",\"\\xa0 ６８\",\"\\xa0 ６７\",\"\\xa0 ６６\",\"\\xa0 ６５\",\"\\xa0 ６４\",\"\\xa0 ６３\",\"\\xa0 ６２\",\"\\xa0 ６１\",\"\\xa0 ６０\"]\n",
        "\n",
        "for i in score[\"Unnamed: 5\"]:\n",
        "    if i in AA:\n",
        "        score[\"Unnamed: 5\"][score[\"Unnamed: 5\"]==i] = \"\\xa0 ＡＡ\"\n",
        "    if i in A:\n",
        "        score[\"Unnamed: 5\"][score[\"Unnamed: 5\"]==i] = \"\\xa0 Ａ\"\n",
        "    if i in B:\n",
        "        score[\"Unnamed: 5\"][score[\"Unnamed: 5\"]==i] = \"\\xa0 Ｂ\"\n",
        "    if i in C:\n",
        "        score[\"Unnamed: 5\"][score[\"Unnamed: 5\"]==i] = \"\\xa0 Ｃ\""
      ],
      "metadata": {
        "id": "bMHalvCoAwEp"
      },
      "execution_count": null,
      "outputs": []
    },
    {
      "cell_type": "code",
      "source": [
        "score[\"Unnamed: 3\"].replace(\"\\xa0 0.5\", 0.5, inplace=True )\n",
        "score[\"Unnamed: 3\"].replace(\"\\xa0 1\", 1, inplace=True)\n",
        "score[\"Unnamed: 3\"].replace(\"\\xa0 2\", 2, inplace=True)\n",
        "score[\"Unnamed: 3\"].replace(\"\\xa0 4\", 4, inplace=True)"
      ],
      "metadata": {
        "id": "qG7HuNoYImsT"
      },
      "execution_count": null,
      "outputs": []
    },
    {
      "cell_type": "code",
      "source": [
        "#score_defined = score[[score[\"Unnamed: 5\"] ==\"\\xa0 ＡＡ\"]  [score[\"Unnamed: 5\"] ==\"\\xa0 Ａ\"] or [score[\"Unnamed: 5\"] ==\"\\xa0 Ｂ\"] or [score[\"Unnamed: 5\"] ==\"\\xa0 Ｃ\"] ]\n",
        "score_AA = score[score[\"Unnamed: 5\"] ==\"\\xa0 ＡＡ\"]\n",
        "score_A = score[score[\"Unnamed: 5\"] ==\"\\xa0 Ａ\"]\n",
        "score_B = score[score[\"Unnamed: 5\"] ==\"\\xa0 Ｂ\"]\n",
        "score_C = score[score[\"Unnamed: 5\"] ==\"\\xa0 Ｃ\"]"
      ],
      "metadata": {
        "id": "4DeMW9-8HAf8"
      },
      "execution_count": null,
      "outputs": []
    },
    {
      "cell_type": "code",
      "source": [
        "AA_point = 4*score_AA[\"Unnamed: 3\"].sum()\n",
        "A_point = 3*score_A[\"Unnamed: 3\"].sum()\n",
        "B_point = 2*score_B[\"Unnamed: 3\"].sum()\n",
        "C_point = 1*score_C[\"Unnamed: 3\"].sum()\n",
        "credit_sum = score_AA[\"Unnamed: 3\"].sum() + score_A[\"Unnamed: 3\"].sum() + score_B[\"Unnamed: 3\"].sum() + score_C[\"Unnamed: 3\"].sum()\n",
        "GP = AA_point + A_point + B_point + C_point\n",
        "GPA = GP / credit_sum"
      ],
      "metadata": {
        "id": "sw-Lc9hQHMOF"
      },
      "execution_count": null,
      "outputs": []
    },
    {
      "cell_type": "code",
      "source": [
        "print(\"AA:\",AA_point,\"A:\",A_point,\"B:\",B_point,\"C:\",C_point)\n",
        "print(\"GP:\",GP,\"credit_sum:\",credit_sum)\n",
        "print(\"GPA:\",GPA)"
      ],
      "metadata": {
        "id": "lBEWzdSBLbGb"
      },
      "execution_count": null,
      "outputs": []
    }
  ]
}